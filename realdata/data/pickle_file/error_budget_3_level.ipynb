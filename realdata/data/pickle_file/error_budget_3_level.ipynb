{
 "cells": [
  {
   "cell_type": "code",
   "execution_count": 22,
   "id": "0717e364",
   "metadata": {},
   "outputs": [],
   "source": [
    "import pickle\n",
    "import numpy as np"
   ]
  },
  {
   "cell_type": "code",
   "execution_count": 23,
   "id": "0432f2bd",
   "metadata": {},
   "outputs": [
    {
     "name": "stdout",
     "output_type": "stream",
     "text": [
      "dict_keys(['raw_fidelity', 'use_teleportation', 'EM_all_fidelity', 'EM_all_valid_population', 'result_list', 'noise_info'])\n",
      "0.3823712498757484\n",
      "0.6069418787746923\n"
     ]
    }
   ],
   "source": [
    "root_path = r\"\\\\LAGRANGE\\users\\ShenFH\\1_NP_Reply\\1_NP_Reply\\error_budget\\pickle_file/\"\n",
    "file_name = f\"3_layer_qram_swap_addr_00h_clas_01010101_shots_5000_full_error.pkl\"\n",
    "with open(root_path + file_name, 'rb') as f:\n",
    "    data = pickle.load(f)\n",
    "\n",
    "print(data.keys())\n",
    "print(data['raw_fidelity'])\n",
    "print(data['EM_all_fidelity'])"
   ]
  },
  {
   "cell_type": "code",
   "execution_count": 24,
   "id": "b144c7dd",
   "metadata": {},
   "outputs": [
    {
     "name": "stdout",
     "output_type": "stream",
     "text": [
      "cz: 0.1567, 0.0784\n",
      "sq: 0.2139, 0.1209\n",
      "T1: 0.1230, 0.0936\n",
      "T2: 0.1240, 0.1002\n"
     ]
    }
   ],
   "source": [
    "root_path = r\"\\\\LAGRANGE\\users\\ShenFH\\1_NP_Reply\\1_NP_Reply\\error_budget\\pickle_file/\"\n",
    "result = {\"raw\":{},\"EM\":{}}\n",
    "for key in [\"full_error\", \"no_cz_error\", \"no_sq_error\", \"no_T1_error\", \"no_T2_error\"]:\n",
    "    file_name = f\"3_layer_qram_swap_addr_00h_clas_01010101_shots_5000_{key}.pkl\"\n",
    "    with open(root_path + file_name, \"rb\") as f:\n",
    "        result[key] = pickle.load(f)\n",
    "\n",
    "_cz_contrib_raw = result[\"no_cz_error\"][\"raw_fidelity\"] - result[\"full_error\"][\"raw_fidelity\"]\n",
    "_sq_contrib_raw = result[\"no_sq_error\"][\"raw_fidelity\"] - result[\"full_error\"][\"raw_fidelity\"]\n",
    "_T1_contrib_raw = result[\"no_T1_error\"][\"raw_fidelity\"] - result[\"full_error\"][\"raw_fidelity\"]\n",
    "_T2_contrib_raw = result[\"no_T2_error\"][\"raw_fidelity\"] - result[\"full_error\"][\"raw_fidelity\"]\n",
    "_tot_contrib_raw = _cz_contrib_raw + _sq_contrib_raw + _T1_contrib_raw + _T2_contrib_raw\n",
    "\n",
    "_cz_contrib_em = result[\"no_cz_error\"][\"EM_all_fidelity\"] - result[\"full_error\"][\"EM_all_fidelity\"]\n",
    "_sq_contrib_em = result[\"no_sq_error\"][\"EM_all_fidelity\"] - result[\"full_error\"][\"EM_all_fidelity\"]\n",
    "_T1_contrib_em = result[\"no_T1_error\"][\"EM_all_fidelity\"] - result[\"full_error\"][\"EM_all_fidelity\"]\n",
    "_T2_contrib_em = result[\"no_T2_error\"][\"EM_all_fidelity\"] - result[\"full_error\"][\"EM_all_fidelity\"]\n",
    "_tot_contrib_em = _cz_contrib_em + _sq_contrib_em + _T1_contrib_em + _T2_contrib_em\n",
    "\n",
    "result[\"raw\"][\"cz\"] = _cz_contrib_raw/_tot_contrib_raw * (1 - result[\"full_error\"][\"raw_fidelity\"])\n",
    "result[\"raw\"][\"sq\"] = _sq_contrib_raw/_tot_contrib_raw * (1 - result[\"full_error\"][\"raw_fidelity\"])\n",
    "result[\"raw\"][\"T1\"] = _T1_contrib_raw/_tot_contrib_raw * (1 - result[\"full_error\"][\"raw_fidelity\"])\n",
    "result[\"raw\"][\"T2\"] = _T2_contrib_raw/_tot_contrib_raw * (1 - result[\"full_error\"][\"raw_fidelity\"])\n",
    "\n",
    "result[\"EM\"][\"cz\"] = _cz_contrib_em/_tot_contrib_em * (1 - result[\"full_error\"][\"EM_all_fidelity\"])\n",
    "result[\"EM\"][\"sq\"] = _sq_contrib_em/_tot_contrib_em * (1 - result[\"full_error\"][\"EM_all_fidelity\"])\n",
    "result[\"EM\"][\"T1\"] = _T1_contrib_em/_tot_contrib_em * (1 - result[\"full_error\"][\"EM_all_fidelity\"])\n",
    "result[\"EM\"][\"T2\"] = _T2_contrib_em/_tot_contrib_em * (1 - result[\"full_error\"][\"EM_all_fidelity\"])\n",
    "\n",
    "for key in [\"cz\", \"sq\", \"T1\", \"T2\"]:\n",
    "    print(f\"{key}: {result['raw'][key]:.4f}, {result['EM'][key]:.4f}\")\n"
   ]
  },
  {
   "cell_type": "code",
   "execution_count": null,
   "id": "d49864c1",
   "metadata": {},
   "outputs": [
    {
     "name": "stdout",
     "output_type": "stream",
     "text": [
      "dict_keys(['1', '2', '3', '4'])\n",
      "error_0.00_divide_0 0.34209510909492785\n",
      "error_0.00_divide_1 0.34116424411377383\n",
      "error_0.00_divide_2 0.3421002691176133\n",
      "error_0.00_divide_3 0.3428535075079706\n",
      "error_0.00_divide_4 0.34325770213483664\n",
      "dict_keys(['1', '2', '3', '4'])\n",
      "error_0.00_divide_0 0.5981731807181899\n",
      "error_0.00_divide_1 0.6067559512105182\n",
      "error_0.00_divide_2 0.6078540225596994\n",
      "error_0.00_divide_3 0.6083610837352544\n",
      "error_0.00_divide_4 0.5978357256911864\n"
     ]
    }
   ],
   "source": [
    "exp_root_path = r\"D:\\users\\ShenFH\\exp_log\\E125H06\\qasm_data\\final_data_collect\\process_data\\Fig3a_data/\"\n",
    "raw_file_name = f\"3_level_swap_00+_raw_new_all.pkl\"\n",
    "em_file_name = f\"3_level_swap_00+_mitigation_new_all.pkl\"\n",
    "\n",
    "with open(exp_root_path + raw_file_name, 'rb') as f:\n",
    "    raw_data = pickle.load(f)\n",
    "\n",
    "print(raw_data.keys())\n",
    "raw_3_level_fidelity = []\n",
    "for _devide in [0,1,2,3,4]:\n",
    "    print(raw_data[\"1\"][_devide][0][0], raw_data[\"1\"][_devide][0][1])\n",
    "    raw_3_level_fidelity.append(raw_data[\"1\"][_devide][0][1])\n",
    "\n",
    "with open(exp_root_path + em_file_name, 'rb') as f:\n",
    "    em_data = pickle.load(f)\n",
    "\n",
    "print(em_data.keys())\n",
    "em_3_level_fidelity = []\n",
    "for _devide in [0,1,2,3,4]:\n",
    "    print(em_data[\"1\"][_devide][0][0], em_data[\"1\"][_devide][0][1])\n",
    "    em_3_level_fidelity.append(em_data[\"1\"][_devide][0][1])\n",
    "\n",
    "\n",
    "# for key in exp_data.keys():\n",
    "#     if \"error_0.00\" in key:\n",
    "#         print(key)"
   ]
  }
 ],
 "metadata": {
  "kernelspec": {
   "display_name": "base",
   "language": "python",
   "name": "python3"
  },
  "language_info": {
   "codemirror_mode": {
    "name": "ipython",
    "version": 3
   },
   "file_extension": ".py",
   "mimetype": "text/x-python",
   "name": "python",
   "nbconvert_exporter": "python",
   "pygments_lexer": "ipython3",
   "version": "3.9.7"
  }
 },
 "nbformat": 4,
 "nbformat_minor": 5
}
